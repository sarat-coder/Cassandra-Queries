{
 "cells": [
  {
   "cell_type": "code",
   "execution_count": null,
   "id": "numerical-pontiac",
   "metadata": {},
   "outputs": [],
   "source": [
    "# https://auth.cloud.datastax.com/auth/realms/CloudUsers/protocol/openid-connect/auth?client_id=auth-proxy&redirect_uri=https%3A%2F%2Fgatekeeper.auth.cloud.datastax.com%2Fcallback&response_type=code&scope=openid+profile+email&state=%2Fioggi3PlZKRkb3q5s%2Bc204BGug%3D"
   ]
  },
  {
   "cell_type": "code",
   "execution_count": 120,
   "id": "90d84a20",
   "metadata": {
    "scrolled": true
   },
   "outputs": [
    {
     "name": "stdout",
     "output_type": "stream",
     "text": [
      "Requirement already satisfied: cassandra-driver in c:\\users\\sssso\\anaconda3\\lib\\site-packages (3.25.0)\n",
      "Requirement already satisfied: six>=1.9 in c:\\users\\sssso\\anaconda3\\lib\\site-packages (from cassandra-driver) (1.15.0)\n",
      "Requirement already satisfied: geomet<0.3,>=0.1 in c:\\users\\sssso\\anaconda3\\lib\\site-packages (from cassandra-driver) (0.2.1.post1)\n",
      "Requirement already satisfied: click in c:\\users\\sssso\\anaconda3\\lib\\site-packages (from geomet<0.3,>=0.1->cassandra-driver) (7.1.2)\n"
     ]
    },
    {
     "name": "stderr",
     "output_type": "stream",
     "text": [
      "WARNING: You are using pip version 21.1.3; however, version 21.2.1 is available.\n",
      "You should consider upgrading via the 'c:\\users\\sssso\\anaconda3\\python.exe -m pip install --upgrade pip' command.\n"
     ]
    }
   ],
   "source": [
    "!pip install cassandra-driver"
   ]
  },
  {
   "cell_type": "code",
   "execution_count": 121,
   "id": "c2a3e7d8",
   "metadata": {},
   "outputs": [
    {
     "name": "stdout",
     "output_type": "stream",
     "text": [
      "3.25.0\n"
     ]
    }
   ],
   "source": [
    "import cassandra\n",
    "print(cassandra.__version__)"
   ]
  },
  {
   "cell_type": "code",
   "execution_count": 122,
   "id": "expected-martin",
   "metadata": {},
   "outputs": [],
   "source": [
    "from cassandra.query import BatchStatement,SimpleStatement"
   ]
  },
  {
   "cell_type": "code",
   "execution_count": 123,
   "id": "b0e0c127",
   "metadata": {},
   "outputs": [
    {
     "name": "stdout",
     "output_type": "stream",
     "text": [
      "Row(release_version='4.0.0.6814')\n"
     ]
    },
    {
     "name": "stderr",
     "output_type": "stream",
     "text": [
      "<ipython-input-123-1b0dec702705>:12: DeprecationWarning: ResultSet indexing support will be removed in 4.0. Consider using ResultSet.one() to get a single row.\n",
      "  print(row[0])\n"
     ]
    }
   ],
   "source": [
    "#FOR CONNECTING TO CLOUD SYSTEM\n",
    "from cassandra.cluster import Cluster\n",
    "from cassandra.auth import PlainTextAuthProvider\n",
    "\n",
    "cloud_config= {'secure_connect_bundle':r'C:\\Full_Stack\\Cassandra\\secure-connect-saratx.zip'}\n",
    "auth_provider = PlainTextAuthProvider('rJvgeAeioatElFOkJnOGcTpc', 'QQPKibm-xobjhu.PpfobPWv9..L03IrylFl7ef-SvgpCjjrAfdLq8rRXCLqabZy+65mGqsp.+FqNjG04HE2iF3_GzBbG49DiTS-jbTahKn+f8ptJi0aZJOYK_DUNT,q2')\n",
    "cluster = Cluster(cloud=cloud_config, auth_provider=auth_provider)\n",
    "session = cluster.connect()\n",
    "\n",
    "row = session.execute(\"select release_version from system.local\")\n",
    "if row:\n",
    "    print(row[0])\n",
    "else:\n",
    "    print(\"An error occurred.\")\n"
   ]
  },
  {
   "cell_type": "code",
   "execution_count": 1,
   "id": "a8c61127",
   "metadata": {},
   "outputs": [
    {
     "name": "stdout",
     "output_type": "stream",
     "text": [
      "<cassandra.cluster.ResultSet object at 0x00000208F7F11130>\n"
     ]
    }
   ],
   "source": [
    "# FOR CONNECTING TO LOCAL SYSYTEM\n",
    "from cassandra.cluster import Cluster\n",
    "#from cassandra.auth import PlainTextAuthProvider\n",
    "\n",
    "#cloud_config= {'secure_connect_bundle':r'C:\\Users\\Admin\\Downloads\\secure-connect-test.zip'}\n",
    "#auth_provider = PlainTextAuthProvider('xbCLnGiTgbFemYjnNKyXmdJk', 'uZQFsScneNQ8+WhqNmLehyRXNZ4HZ233ktFIw1fkCulK,czUQ7hGkJJze4lzHU2Mcl7vOMm56,7sQJYiFLIUwQzjw4BEeWufXeaMC8vG1exmzGaoQ+glmBLW8+48tIAd')\n",
    "cluster = Cluster()\n",
    "session = cluster.connect()\n",
    "\n",
    "row = session.execute(\"select release_version from system.local\")\n",
    "print(row)\n"
   ]
  },
  {
   "cell_type": "code",
   "execution_count": 70,
   "id": "4c23a7c8",
   "metadata": {},
   "outputs": [
    {
     "name": "stdout",
     "output_type": "stream",
     "text": [
      "excetion occured  Error from server: code=2100 [Unauthorized] message=\"Missing correct permission on empmgmt.\"\n"
     ]
    }
   ],
   "source": [
    "# Create Keyspace\n",
    "try:\n",
    "    query = \"CREATE KEYSPACE empmgmt WITH replication = {'class':'SimpleStrategy', 'replication_factor' : 3};\"\n",
    "    session.execute(query)\n",
    "    print('Keyspace created.')\n",
    "except Exception as e:\n",
    "    print('excetion occured ',e)"
   ]
  },
  {
   "cell_type": "code",
   "execution_count": null,
   "id": "unauthorized-simple",
   "metadata": {},
   "outputs": [],
   "source": [
    "# Alter Keyspace\n",
    "try:\n",
    "    query = \"ALTER KEYSPACE empmgmt WITH replication = {'class':'SimpleStrategy', 'replication_factor' : 2};\"\n",
    "    session.execute(query)\n",
    "    print('Keyspace altered.')\n",
    "except Exception as e:\n",
    "    print('excetion occured ',e)"
   ]
  },
  {
   "cell_type": "code",
   "execution_count": 7,
   "id": "3272be3f",
   "metadata": {},
   "outputs": [],
   "source": [
    "#use keyspace\n",
    "row=session.execute(\"use genius1;\")"
   ]
  },
  {
   "cell_type": "code",
   "execution_count": 5,
   "id": "9efe94ae",
   "metadata": {},
   "outputs": [],
   "source": [
    "# alter keyspace\n",
    "#row=session.execute(\"ALTER KEYSPACE home WITH replication = {'class': 'SimpleStrategy', 'replication_factor' : 3};\")\n"
   ]
  },
  {
   "cell_type": "code",
   "execution_count": 9,
   "id": "b357fd33",
   "metadata": {},
   "outputs": [],
   "source": [
    "#dropping the keyspace\n",
    "#row=session.execute(\"DROP KEYSPACE genius1;\")"
   ]
  },
  {
   "cell_type": "code",
   "execution_count": 124,
   "id": "19c2478b",
   "metadata": {},
   "outputs": [],
   "source": [
    "try:\n",
    "    row=session.execute(\"use saratx;\")\n",
    "except Exception as e:\n",
    "    print(e)"
   ]
  },
  {
   "cell_type": "code",
   "execution_count": 12,
   "id": "2622edaf",
   "metadata": {},
   "outputs": [],
   "source": [
    "#row = session.execute(\"CREATE KEYSPACE home WITH replication = {'class': 'SimpleStrategy', 'replication_factor' : 4};\")"
   ]
  },
  {
   "cell_type": "code",
   "execution_count": 129,
   "id": "26b7bf6b",
   "metadata": {},
   "outputs": [],
   "source": [
    "#creating table in the keyspace\n",
    "row=session.execute(\"CREATE TABLE Members(id int PRIMARY KEY,name text,age int,height int);\")"
   ]
  },
  {
   "cell_type": "code",
   "execution_count": 130,
   "id": "1b107c07",
   "metadata": {},
   "outputs": [],
   "source": [
    "#inserting into table\n",
    "row=session.execute(\"INSERT INTO Members(id,name,age,height) VALUES (1,'mohit',25,160);\")"
   ]
  },
  {
   "cell_type": "code",
   "execution_count": 131,
   "id": "5ed4a0bb",
   "metadata": {},
   "outputs": [],
   "source": [
    "row=session.execute(\"INSERT INTO Members(id,name,age,height) VALUES (2,'shubham',26,165);\")\n",
    "row=session.execute(\"INSERT INTO Members(id,name,age,height) VALUES (3,'aradhana',25,142);\")\n",
    "row=session.execute(\"INSERT INTO Members(id,name,age,height) VALUES (4,'rakesh',55,157);\")\n",
    "row=session.execute(\"INSERT INTO Members(id,name,age,height) VALUES (5,'poonam',52,145);\")\n",
    "row=session.execute(\"INSERT INTO Members(id,name,age,height) VALUES (6,'seema',30,145);\")"
   ]
  },
  {
   "cell_type": "code",
   "execution_count": 133,
   "id": "undefined-finding",
   "metadata": {},
   "outputs": [],
   "source": [
    "row=session.execute(\"select * from Members\")"
   ]
  },
  {
   "cell_type": "code",
   "execution_count": 134,
   "id": "greek-conspiracy",
   "metadata": {},
   "outputs": [
    {
     "name": "stdout",
     "output_type": "stream",
     "text": [
      "Row(id=5, age=52, height=145, name='poonam')\n",
      "Row(id=1, age=25, height=160, name='mohit')\n",
      "Row(id=2, age=26, height=165, name='shubham')\n",
      "Row(id=4, age=55, height=157, name='rakesh')\n",
      "Row(id=6, age=30, height=145, name='seema')\n",
      "Row(id=3, age=25, height=142, name='aradhana')\n"
     ]
    }
   ],
   "source": [
    "for i in row:\n",
    "    print(i)"
   ]
  },
  {
   "cell_type": "markdown",
   "id": "willing-kruger",
   "metadata": {},
   "source": [
    "# Insert Multiple Records to DB"
   ]
  },
  {
   "cell_type": "code",
   "execution_count": 135,
   "id": "social-safety",
   "metadata": {},
   "outputs": [
    {
     "name": "stdout",
     "output_type": "stream",
     "text": [
      "Insert completed\n"
     ]
    }
   ],
   "source": [
    "from cassandra.query import BatchStatement,SimpleStatement\n",
    "\n",
    "qr1= \"insert into Members (id,name,age,height) values(%s,%s,%s,%s)\"\n",
    "batch = BatchStatement()\n",
    "batch.add(qr1,[5,'sarat',28,265])\n",
    "batch.add(qr1,[6,'srikant',24,135])\n",
    "batch.add(qr1,[7,'sss',20,150])\n",
    "session.execute(batch)\n",
    "print('Insert completed')"
   ]
  },
  {
   "cell_type": "markdown",
   "id": "neural-bahamas",
   "metadata": {},
   "source": [
    "# Delete a record from EMP"
   ]
  },
  {
   "cell_type": "code",
   "execution_count": 136,
   "id": "selective-lawrence",
   "metadata": {},
   "outputs": [
    {
     "name": "stdout",
     "output_type": "stream",
     "text": [
      "Record deleted successfully...\n"
     ]
    }
   ],
   "source": [
    "dt_rec= \"delete from Members where id= ?;\"\n",
    "dt_st= session.prepare(dt_rec)\n",
    "session.execute(dt_st,[6])\n",
    "print('Record deleted successfully...')"
   ]
  },
  {
   "cell_type": "code",
   "execution_count": 34,
   "id": "vertical-virginia",
   "metadata": {},
   "outputs": [
    {
     "data": {
      "text/plain": [
       "'C:\\\\Full_Stack\\\\Cassandra\\\\casandra'"
      ]
     },
     "execution_count": 34,
     "metadata": {},
     "output_type": "execute_result"
    }
   ],
   "source": [
    "pwd()"
   ]
  },
  {
   "cell_type": "markdown",
   "id": "typical-medicaid",
   "metadata": {},
   "source": [
    "# Insert data from a CSV file to Cassandra DB"
   ]
  },
  {
   "cell_type": "code",
   "execution_count": 137,
   "id": "vanilla-facing",
   "metadata": {},
   "outputs": [
    {
     "name": "stdout",
     "output_type": "stream",
     "text": [
      "<_csv.reader object at 0x00000278159C9F40>\n",
      "Finished\n"
     ]
    }
   ],
   "source": [
    "import csv\n",
    "with open('data.csv','r') as data:\n",
    "    next(data)\n",
    "    data_csv= csv.reader(data,delimiter=',')\n",
    "    #csv reader object\n",
    "    print(data_csv)\n",
    "    all_value= []\n",
    "    for i in data_csv:\n",
    "        session.execute(\"insert into  saratx.Members (id ,name) values(%s,%s)\",[int(i[0]),i[1]])\n",
    "print(\"Finished\")"
   ]
  },
  {
   "cell_type": "code",
   "execution_count": 95,
   "id": "amino-complement",
   "metadata": {},
   "outputs": [
    {
     "name": "stdout",
     "output_type": "stream",
     "text": [
      "<_csv.reader object at 0x0000027815A6D1C0>\n",
      "Finished\n"
     ]
    }
   ],
   "source": [
    "import csv\n",
    "with open('data.csv','r') as data:\n",
    "    next(data)\n",
    "    data_csv= csv.reader(data,delimiter=',')\n",
    "    #csv reader object\n",
    "    print(data_csv)\n",
    "    all_value= []\n",
    "    for i in data_csv:\n",
    "        session.execute(\"insert into  saratx.Members (id ,name,height) values(%s,%s,%s)\",[int(i[0]),i[1],int(i[3])])\n",
    "print(\"Finished\")"
   ]
  },
  {
   "cell_type": "markdown",
   "id": "elementary-racing",
   "metadata": {},
   "source": [
    "# Insertion through prepare statement"
   ]
  },
  {
   "cell_type": "code",
   "execution_count": 138,
   "id": "consistent-spanking",
   "metadata": {},
   "outputs": [
    {
     "data": {
      "text/plain": [
       "<cassandra.cluster.ResultSet at 0x27815b29d00>"
      ]
     },
     "execution_count": 138,
     "metadata": {},
     "output_type": "execute_result"
    }
   ],
   "source": [
    "smt=session.prepare('insert into saratx.Members (id ,name,age,height) values(?,?,?,?)')\n",
    "session.execute(smt.bind([1002,'sarat9',29,567]))"
   ]
  },
  {
   "cell_type": "markdown",
   "id": "equal-institution",
   "metadata": {},
   "source": [
    "# Update command"
   ]
  },
  {
   "cell_type": "code",
   "execution_count": 139,
   "id": "deluxe-photographer",
   "metadata": {},
   "outputs": [
    {
     "data": {
      "text/plain": [
       "<cassandra.cluster.ResultSet at 0x278148e2250>"
      ]
     },
     "execution_count": 139,
     "metadata": {},
     "output_type": "execute_result"
    }
   ],
   "source": [
    "session.execute(\"update saratx.Members set name='amit9' where id=1002\")"
   ]
  },
  {
   "cell_type": "markdown",
   "id": "convenient-chick",
   "metadata": {},
   "source": [
    "# Delete Command"
   ]
  },
  {
   "cell_type": "code",
   "execution_count": 140,
   "id": "worse-friend",
   "metadata": {},
   "outputs": [
    {
     "data": {
      "text/plain": [
       "<cassandra.cluster.ResultSet at 0x27813ee9850>"
      ]
     },
     "execution_count": 140,
     "metadata": {},
     "output_type": "execute_result"
    }
   ],
   "source": [
    "session.execute(\"delete from saratx.Members where id=1002\")"
   ]
  },
  {
   "cell_type": "markdown",
   "id": "virtual-track",
   "metadata": {},
   "source": [
    "# orderby\n",
    "You can fine-tune the display order using the ORDER BY clause. The partition key must be defined in the WHERE clause and the ORDER BY clause defines the clustering column to use for ordering.\n",
    "\n",
    "both partition and clustering keys has to be given"
   ]
  },
  {
   "cell_type": "code",
   "execution_count": 142,
   "id": "sublime-nursery",
   "metadata": {},
   "outputs": [
    {
     "data": {
      "text/plain": [
       "<cassandra.cluster.ResultSet at 0x278159d0cd0>"
      ]
     },
     "execution_count": 142,
     "metadata": {},
     "output_type": "execute_result"
    }
   ],
   "source": [
    "session.execute(\"create table saratx.student1(studentID int,name text,age int, primary key(studentID,age))\")"
   ]
  },
  {
   "cell_type": "markdown",
   "id": "aggressive-badge",
   "metadata": {},
   "source": [
    "# Insertion through Batch and Simple Statement."
   ]
  },
  {
   "cell_type": "code",
   "execution_count": 143,
   "id": "ahead-mentor",
   "metadata": {},
   "outputs": [
    {
     "data": {
      "text/plain": [
       "<cassandra.cluster.ResultSet at 0x27815ac93d0>"
      ]
     },
     "execution_count": 143,
     "metadata": {},
     "output_type": "execute_result"
    }
   ],
   "source": [
    "batch=BatchStatement()\n",
    "studentlist=[(7,'priya7',34),(8,'priya8',23),(1,'priya8',23),(8,'priya8',24)]\n",
    "for i in studentlist:\n",
    "    batch.add(SimpleStatement('insert into saratx.student1(studentID,name,age) values(%s,%s,%s)'),(i[0],i[1],i[2]))\n",
    "              \n",
    "session.execute(batch)"
   ]
  },
  {
   "cell_type": "code",
   "execution_count": 144,
   "id": "prerequisite-strap",
   "metadata": {},
   "outputs": [
    {
     "name": "stdout",
     "output_type": "stream",
     "text": [
      "Row(studentid=1, age=23, name='priya8')\n",
      "Row(studentid=8, age=23, name='priya8')\n",
      "Row(studentid=8, age=24, name='priya8')\n",
      "Row(studentid=7, age=34, name='priya7')\n"
     ]
    }
   ],
   "source": [
    "row= session.execute(\"select * from saratx.student1\")\n",
    "for i in row:\n",
    "    print(i)"
   ]
  },
  {
   "cell_type": "code",
   "execution_count": 145,
   "id": "spread-entertainment",
   "metadata": {},
   "outputs": [],
   "source": [
    "rows=session.execute('select * from saratx.student1 where studentID = 8 order by age DESC')"
   ]
  },
  {
   "cell_type": "code",
   "execution_count": 146,
   "id": "neutral-miller",
   "metadata": {},
   "outputs": [
    {
     "name": "stdout",
     "output_type": "stream",
     "text": [
      "Row(studentid=8, age=24, name='priya8')\n",
      "Row(studentid=8, age=23, name='priya8')\n"
     ]
    }
   ],
   "source": [
    "for i in rows:\n",
    "    print(i)"
   ]
  },
  {
   "cell_type": "markdown",
   "id": "figured-painting",
   "metadata": {},
   "source": [
    "# Count records"
   ]
  },
  {
   "cell_type": "code",
   "execution_count": 147,
   "id": "civic-mechanics",
   "metadata": {},
   "outputs": [
    {
     "name": "stdout",
     "output_type": "stream",
     "text": [
      "Row(count=4)\n"
     ]
    }
   ],
   "source": [
    "row = session.execute(\"SELECT COUNT(*) FROM saratx.student1;\").one()\n",
    "print(row)"
   ]
  },
  {
   "cell_type": "code",
   "execution_count": 148,
   "id": "backed-watts",
   "metadata": {},
   "outputs": [
    {
     "name": "stdout",
     "output_type": "stream",
     "text": [
      "Row(system_sum_age=104)\n"
     ]
    }
   ],
   "source": [
    "row = session.execute(\"SELECT SUM(age) FROM saratx.student1;\").one()\n",
    "print(row)"
   ]
  },
  {
   "cell_type": "markdown",
   "id": "hispanic-ownership",
   "metadata": {},
   "source": [
    "# Filtering with condition"
   ]
  },
  {
   "cell_type": "code",
   "execution_count": 149,
   "id": "polish-constraint",
   "metadata": {},
   "outputs": [
    {
     "name": "stdout",
     "output_type": "stream",
     "text": [
      "Row(studentid=8, age=23, name='priya8')\n",
      "Row(studentid=8, age=24, name='priya8')\n"
     ]
    }
   ],
   "source": [
    "row= session.execute(\"select * from saratx.student1 where studentID>=8 allow filtering\")\n",
    "for i in row:\n",
    "    print(i)"
   ]
  },
  {
   "cell_type": "code",
   "execution_count": null,
   "id": "provincial-ministry",
   "metadata": {},
   "outputs": [],
   "source": []
  },
  {
   "cell_type": "markdown",
   "id": "urban-insertion",
   "metadata": {},
   "source": [
    "# Filtering All"
   ]
  },
  {
   "cell_type": "code",
   "execution_count": 150,
   "id": "lonely-copying",
   "metadata": {},
   "outputs": [
    {
     "name": "stdout",
     "output_type": "stream",
     "text": [
      "Row(studentid=1, age=23, name='priya8')\n",
      "Row(studentid=8, age=23, name='priya8')\n",
      "Row(studentid=8, age=24, name='priya8')\n",
      "Row(studentid=7, age=34, name='priya7')\n"
     ]
    }
   ],
   "source": [
    "row=session.execute(\"select * from student1;\")\n",
    "for i in row:\n",
    "    print(i)"
   ]
  },
  {
   "cell_type": "code",
   "execution_count": 151,
   "id": "dfc8fdd9",
   "metadata": {},
   "outputs": [
    {
     "name": "stdout",
     "output_type": "stream",
     "text": [
      "Row(id=5, age=28, height=265, name='sarat')\n",
      "Row(id=1, age=25, height=160, name='mohit')\n",
      "Row(id=2, age=26, height=165, name='shubham')\n",
      "Row(id=4, age=55, height=157, name='rakesh')\n",
      "Row(id=7, age=20, height=150, name='sss')\n",
      "Row(id=100, age=None, height=None, name='kk')\n",
      "Row(id=102, age=None, height=None, name='kc')\n",
      "Row(id=101, age=None, height=None, name='kb')\n",
      "Row(id=3, age=25, height=142, name='aradhana')\n",
      "Row(id=103, age=None, height=None, name='kd')\n"
     ]
    }
   ],
   "source": [
    "#view the data in table\n",
    "row=session.execute(\"select * from Members;\")\n",
    "for i in row:\n",
    "    print(i)"
   ]
  },
  {
   "cell_type": "code",
   "execution_count": 17,
   "id": "5655fc0c",
   "metadata": {},
   "outputs": [],
   "source": [
    "#not inserting value in some column\n",
    "row=session.execute(\"INSERT INTO Members(id,name,age) VALUES (9,'sakshi',32);\")"
   ]
  },
  {
   "cell_type": "code",
   "execution_count": 18,
   "id": "0ee41a03",
   "metadata": {},
   "outputs": [
    {
     "name": "stdout",
     "output_type": "stream",
     "text": [
      "Row(id=5, age=52, height=145, name='poonam')\n",
      "Row(id=1, age=25, height=160, name='mohit')\n",
      "Row(id=2, age=26, height=165, name='shubham')\n",
      "Row(id=4, age=55, height=157, name='rakesh')\n",
      "Row(id=6, age=30, height=145, name='seema')\n",
      "Row(id=9, age=32, height=None, name='sakshi')\n",
      "Row(id=3, age=25, height=142, name='aradhana')\n"
     ]
    }
   ],
   "source": [
    "#view the data in table \n",
    "row=session.execute(\"select * from Members;\")\n",
    "for i in row:\n",
    "    print(i)\n",
    "#null where data not given"
   ]
  },
  {
   "cell_type": "code",
   "execution_count": 152,
   "id": "c6cf3ae9",
   "metadata": {},
   "outputs": [],
   "source": [
    "#alter existing table (adding more columns to table)\n",
    "row=session.execute(\"ALTER TABLE student1 ADD email varchar;\")"
   ]
  },
  {
   "cell_type": "code",
   "execution_count": 153,
   "id": "e9eb9d85",
   "metadata": {},
   "outputs": [
    {
     "name": "stdout",
     "output_type": "stream",
     "text": [
      "Row(studentid=1, age=23, email=None, name='priya8')\n",
      "Row(studentid=8, age=23, email=None, name='priya8')\n",
      "Row(studentid=8, age=24, email=None, name='priya8')\n",
      "Row(studentid=7, age=34, email=None, name='priya7')\n"
     ]
    }
   ],
   "source": [
    "row=session.execute(\"select * from student1;\")\n",
    "for i in row:\n",
    "    print(i)"
   ]
  },
  {
   "cell_type": "code",
   "execution_count": 141,
   "id": "0d38ad23",
   "metadata": {},
   "outputs": [],
   "source": [
    "#dropping the table\n",
    "row=session.execute(\"DROP TABLE if exists saratx.student1;\")"
   ]
  },
  {
   "cell_type": "code",
   "execution_count": 128,
   "id": "9157b64d",
   "metadata": {},
   "outputs": [
    {
     "ename": "InvalidRequest",
     "evalue": "Error from server: code=2200 [Invalid query] message=\"table saratx.member does not exist\"",
     "output_type": "error",
     "traceback": [
      "\u001b[1;31m---------------------------------------------------------------------------\u001b[0m",
      "\u001b[1;31mInvalidRequest\u001b[0m                            Traceback (most recent call last)",
      "\u001b[1;32m<ipython-input-128-19210771877f>\u001b[0m in \u001b[0;36m<module>\u001b[1;34m\u001b[0m\n\u001b[0;32m      1\u001b[0m \u001b[1;31m#truncating (removing all data from table)\u001b[0m\u001b[1;33m\u001b[0m\u001b[1;33m\u001b[0m\u001b[1;33m\u001b[0m\u001b[0m\n\u001b[1;32m----> 2\u001b[1;33m \u001b[0mrow\u001b[0m\u001b[1;33m=\u001b[0m\u001b[0msession\u001b[0m\u001b[1;33m.\u001b[0m\u001b[0mexecute\u001b[0m\u001b[1;33m(\u001b[0m\u001b[1;34m\"TRUNCATE saratx.Member;\"\u001b[0m\u001b[1;33m)\u001b[0m\u001b[1;33m\u001b[0m\u001b[1;33m\u001b[0m\u001b[0m\n\u001b[0m",
      "\u001b[1;32m~\\anaconda3\\lib\\site-packages\\cassandra\\cluster.cp38-win_amd64.pyd\u001b[0m in \u001b[0;36mcassandra.cluster.Session.execute\u001b[1;34m()\u001b[0m\n",
      "\u001b[1;32m~\\anaconda3\\lib\\site-packages\\cassandra\\cluster.cp38-win_amd64.pyd\u001b[0m in \u001b[0;36mcassandra.cluster.ResponseFuture.result\u001b[1;34m()\u001b[0m\n",
      "\u001b[1;31mInvalidRequest\u001b[0m: Error from server: code=2200 [Invalid query] message=\"table saratx.member does not exist\""
     ]
    }
   ],
   "source": [
    "#truncating (removing all data from table)\n",
    "row=session.execute(\"TRUNCATE saratx.Member;\")"
   ]
  },
  {
   "cell_type": "code",
   "execution_count": 23,
   "id": "76f39757",
   "metadata": {},
   "outputs": [],
   "source": [
    "#table is empty now\n",
    "for i in row:\n",
    "    print(i)"
   ]
  },
  {
   "cell_type": "code",
   "execution_count": 24,
   "id": "286adc47",
   "metadata": {},
   "outputs": [],
   "source": [
    "#INSERING DATA \n",
    "row=session.execute(\"INSERT INTO Members(id,name,age,height,email) VALUES (2,'shubham',26,165,'memohit@gmail.com');\")\n",
    "row=session.execute(\"INSERT INTO Members(id,name,age,height) VALUES (3,'aradhana',25,142);\")\n",
    "row=session.execute(\"INSERT INTO Members(id,name,age,height) VALUES (4,'rakesh',55,157);\")\n",
    "row=session.execute(\"INSERT INTO Members(id,name,age,height) VALUES (5,'poonam',52,145);\")\n",
    "row=session.execute(\"INSERT INTO Members(id,name,age,height) VALUES (6,'seema',30,145);\")"
   ]
  },
  {
   "cell_type": "code",
   "execution_count": 25,
   "id": "5b36a764",
   "metadata": {},
   "outputs": [],
   "source": [
    "#update existing table \n",
    "row=session.execute(\"UPDATE genius1.Members SET name= 'Mohit Raghav',age = 28 WHERE id=1;\")\n"
   ]
  },
  {
   "cell_type": "code",
   "execution_count": 26,
   "id": "caa81472",
   "metadata": {},
   "outputs": [
    {
     "name": "stdout",
     "output_type": "stream",
     "text": [
      "Row(id=5, age=52, email=None, height=145, name='poonam')\n",
      "Row(id=1, age=28, email=None, height=None, name='Mohit Raghav')\n",
      "Row(id=2, age=26, email='memohit@gmail.com', height=165, name='shubham')\n",
      "Row(id=4, age=55, email=None, height=157, name='rakesh')\n",
      "Row(id=6, age=30, email=None, height=145, name='seema')\n",
      "Row(id=3, age=25, email=None, height=142, name='aradhana')\n"
     ]
    }
   ],
   "source": [
    "#view the data in table \n",
    "row=session.execute(\"select * from Members;\")\n",
    "for i in row:\n",
    "    print(i)"
   ]
  },
  {
   "cell_type": "code",
   "execution_count": 27,
   "id": "45ec13f4",
   "metadata": {},
   "outputs": [],
   "source": [
    "#delete a particular row or a part of row\n",
    "row=session.execute(\"DELETE age FROM Members WHERE id=3;\")\n"
   ]
  },
  {
   "cell_type": "code",
   "execution_count": 28,
   "id": "574322cb",
   "metadata": {},
   "outputs": [
    {
     "name": "stdout",
     "output_type": "stream",
     "text": [
      "Row(id=5, age=52, email=None, height=145, name='poonam')\n",
      "Row(id=1, age=28, email=None, height=None, name='Mohit Raghav')\n",
      "Row(id=2, age=26, email='memohit@gmail.com', height=165, name='shubham')\n",
      "Row(id=4, age=55, email=None, height=157, name='rakesh')\n",
      "Row(id=6, age=30, email=None, height=145, name='seema')\n",
      "Row(id=3, age=None, email=None, height=142, name='aradhana')\n"
     ]
    }
   ],
   "source": [
    "#view the data in table \n",
    "row=session.execute(\"select * from Members;\")\n",
    "for i in row:\n",
    "    print(i)"
   ]
  },
  {
   "cell_type": "code",
   "execution_count": 29,
   "id": "8160a7a6",
   "metadata": {},
   "outputs": [],
   "source": [
    "#selecting particular data\n",
    "row=session.execute(\"SELECT name, age FROM Members WHERE id = 1;\")"
   ]
  },
  {
   "cell_type": "code",
   "execution_count": 30,
   "id": "de4650b8",
   "metadata": {},
   "outputs": [
    {
     "name": "stdout",
     "output_type": "stream",
     "text": [
      "Row(name='Mohit Raghav', age=28)\n"
     ]
    }
   ],
   "source": [
    "for i in row:\n",
    "    print(i)"
   ]
  },
  {
   "cell_type": "code",
   "execution_count": null,
   "id": "ee6df962",
   "metadata": {},
   "outputs": [],
   "source": []
  }
 ],
 "metadata": {
  "kernelspec": {
   "display_name": "Python 3",
   "language": "python",
   "name": "python3"
  },
  "language_info": {
   "codemirror_mode": {
    "name": "ipython",
    "version": 3
   },
   "file_extension": ".py",
   "mimetype": "text/x-python",
   "name": "python",
   "nbconvert_exporter": "python",
   "pygments_lexer": "ipython3",
   "version": "3.8.3"
  }
 },
 "nbformat": 4,
 "nbformat_minor": 5
}
